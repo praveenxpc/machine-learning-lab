{
  "nbformat": 4,
  "nbformat_minor": 0,
  "metadata": {
    "colab": {
      "provenance": [],
      "include_colab_link": true
    },
    "kernelspec": {
      "name": "python3",
      "display_name": "Python 3"
    },
    "language_info": {
      "name": "python"
    }
  },
  "cells": [
    {
      "cell_type": "markdown",
      "metadata": {
        "id": "view-in-github",
        "colab_type": "text"
      },
      "source": [
        "<a href=\"https://colab.research.google.com/github/praveenxpc/machine-learning-lab/blob/main/ANN.ipynb\" target=\"_parent\"><img src=\"https://colab.research.google.com/assets/colab-badge.svg\" alt=\"Open In Colab\"/></a>"
      ]
    },
    {
      "cell_type": "code",
      "execution_count": null,
      "metadata": {
        "colab": {
          "base_uri": "https://localhost:8080/",
          "height": 130
        },
        "id": "QL9XVJMwoHRm",
        "outputId": "37715d0a-b039-4e6d-abe7-b568ee88d770"
      },
      "outputs": [
        {
          "output_type": "error",
          "ename": "SyntaxError",
          "evalue": "ignored",
          "traceback": [
            "\u001b[0;36m  File \u001b[0;32m\"<ipython-input-12-69427feb5f13>\"\u001b[0;36m, line \u001b[0;32m1\u001b[0m\n\u001b[0;31m    Loading the MNIST dataset in Keras\u001b[0m\n\u001b[0m            ^\u001b[0m\n\u001b[0;31mSyntaxError\u001b[0m\u001b[0;31m:\u001b[0m invalid syntax\n"
          ]
        }
      ],
      "source": [
        "Loading the MNIST dataset in Keras"
      ]
    },
    {
      "cell_type": "code",
      "source": [
        "from keras.datasets import mnist\n",
        "(train_images, train_labels), (test_images, test_labels) = mnist.load_data()\n"
      ],
      "metadata": {
        "id": "S-tVYhz9oJjn",
        "colab": {
          "base_uri": "https://localhost:8080/"
        },
        "outputId": "459fe834-1db9-4cf2-9cb9-6d097e65da28"
      },
      "execution_count": 1,
      "outputs": [
        {
          "output_type": "stream",
          "name": "stdout",
          "text": [
            "Downloading data from https://storage.googleapis.com/tensorflow/tf-keras-datasets/mnist.npz\n",
            "11490434/11490434 [==============================] - 0s 0us/step\n"
          ]
        }
      ]
    },
    {
      "cell_type": "code",
      "source": [
        "train_images.shape\n",
        "len(train_labels)\n",
        "train_labels\n",
        "test_images.shape\n",
        "len(test_labels)\n",
        "test_labels\n"
      ],
      "metadata": {
        "id": "W5lXpBuzoTwx",
        "colab": {
          "base_uri": "https://localhost:8080/"
        },
        "outputId": "a6046eee-6558-42e0-a4d0-f1ee3f4a8112"
      },
      "execution_count": 2,
      "outputs": [
        {
          "output_type": "execute_result",
          "data": {
            "text/plain": [
              "array([7, 2, 1, ..., 4, 5, 6], dtype=uint8)"
            ]
          },
          "metadata": {},
          "execution_count": 2
        }
      ]
    },
    {
      "cell_type": "markdown",
      "source": [
        "The network architecture"
      ],
      "metadata": {
        "id": "lY9QnJc8oW98"
      }
    },
    {
      "cell_type": "code",
      "source": [
        "from keras import models\n",
        "from keras import layers\n",
        "network = models.Sequential()\n",
        "# Dense(32) is a fully-connected layer with 32 hidden units.\n",
        "# in the first layer, you must specify the expected input data shape :\n",
        "# here, 28 X 28=784 -dimensional vectors.\n",
        "network.add(layers.Dense(32, activation='sigmoid', input_shape=(28 * 28, )))\n",
        "network.add(layers.Dense(8, activation='sigmoid'))\n",
        "network.add(layers.Dense(10, activation='softmax'))\n",
        "network.summary()\n",
        "from google.colab import drive\n",
        "drive.mount('/content/drive')\n"
      ],
      "metadata": {
        "colab": {
          "base_uri": "https://localhost:8080/"
        },
        "id": "bDQ0ElvPoZH6",
        "outputId": "4709bd1b-3c78-456a-9c2e-ca377309bea4"
      },
      "execution_count": 3,
      "outputs": [
        {
          "output_type": "stream",
          "name": "stdout",
          "text": [
            "Model: \"sequential\"\n",
            "_________________________________________________________________\n",
            " Layer (type)                Output Shape              Param #   \n",
            "=================================================================\n",
            " dense (Dense)               (None, 32)                25120     \n",
            "                                                                 \n",
            " dense_1 (Dense)             (None, 8)                 264       \n",
            "                                                                 \n",
            " dense_2 (Dense)             (None, 10)                90        \n",
            "                                                                 \n",
            "=================================================================\n",
            "Total params: 25474 (99.51 KB)\n",
            "Trainable params: 25474 (99.51 KB)\n",
            "Non-trainable params: 0 (0.00 Byte)\n",
            "_________________________________________________________________\n",
            "Mounted at /content/drive\n"
          ]
        }
      ]
    },
    {
      "cell_type": "markdown",
      "source": [
        "The compilation step"
      ],
      "metadata": {
        "id": "U7I7xhQjoeWH"
      }
    },
    {
      "cell_type": "code",
      "source": [
        "network.compile(optimizer='sgd',\n",
        "                loss='categorical_crossentropy',\n",
        "                metrics=['accuracy'])"
      ],
      "metadata": {
        "id": "_AkirVt0oe6B"
      },
      "execution_count": 4,
      "outputs": []
    },
    {
      "cell_type": "markdown",
      "source": [
        "Preparing the image data"
      ],
      "metadata": {
        "id": "Frz-vGxWogvz"
      }
    },
    {
      "cell_type": "code",
      "source": [
        "train_images = train_images.reshape((60000, 28 * 28))\n",
        "train_images = train_images.astype('float32') / 255.\n",
        "test_images = test_images.reshape((10000, 28 * 28))\n",
        "test_images = test_images.astype('float32') / 255."
      ],
      "metadata": {
        "id": "0LwIHz42oi7A"
      },
      "execution_count": 5,
      "outputs": []
    },
    {
      "cell_type": "markdown",
      "source": [
        "Preparing the labels"
      ],
      "metadata": {
        "id": "xa8dldHFonMc"
      }
    },
    {
      "cell_type": "code",
      "source": [
        "from keras.utils import to_categorical\n",
        "train_labels = to_categorical(train_labels)\n",
        "train_labels\n",
        "test_labels = to_categorical(test_labels)\n",
        "test_labels\n"
      ],
      "metadata": {
        "colab": {
          "base_uri": "https://localhost:8080/"
        },
        "id": "C7cSamqnoprH",
        "outputId": "30397eec-d1b6-42af-d2eb-af4aa13ea450"
      },
      "execution_count": 6,
      "outputs": [
        {
          "output_type": "execute_result",
          "data": {
            "text/plain": [
              "array([[0., 0., 0., ..., 1., 0., 0.],\n",
              "       [0., 0., 1., ..., 0., 0., 0.],\n",
              "       [0., 1., 0., ..., 0., 0., 0.],\n",
              "       ...,\n",
              "       [0., 0., 0., ..., 0., 0., 0.],\n",
              "       [0., 0., 0., ..., 0., 0., 0.],\n",
              "       [0., 0., 0., ..., 0., 0., 0.]], dtype=float32)"
            ]
          },
          "metadata": {},
          "execution_count": 6
        }
      ]
    },
    {
      "cell_type": "markdown",
      "source": [
        "Training and Testing"
      ],
      "metadata": {
        "id": "MdyP_vQyossQ"
      }
    },
    {
      "cell_type": "code",
      "source": [
        "network.fit(train_images, train_labels, epochs=160, batch_size=512)"
      ],
      "metadata": {
        "colab": {
          "base_uri": "https://localhost:8080/"
        },
        "id": "xyUWJqXrouuJ",
        "outputId": "a7b0ca44-8463-4e06-9f61-6b894c3ce7eb"
      },
      "execution_count": 7,
      "outputs": [
        {
          "output_type": "stream",
          "name": "stdout",
          "text": [
            "Epoch 1/160\n",
            "118/118 [==============================] - 2s 5ms/step - loss: 2.3349 - accuracy: 0.1124\n",
            "Epoch 2/160\n",
            "118/118 [==============================] - 1s 5ms/step - loss: 2.3101 - accuracy: 0.1124\n",
            "Epoch 3/160\n",
            "118/118 [==============================] - 1s 5ms/step - loss: 2.2973 - accuracy: 0.1124\n",
            "Epoch 4/160\n",
            "118/118 [==============================] - 1s 5ms/step - loss: 2.2895 - accuracy: 0.1124\n",
            "Epoch 5/160\n",
            "118/118 [==============================] - 1s 5ms/step - loss: 2.2836 - accuracy: 0.1126\n",
            "Epoch 6/160\n",
            "118/118 [==============================] - 1s 5ms/step - loss: 2.2786 - accuracy: 0.1157\n",
            "Epoch 7/160\n",
            "118/118 [==============================] - 1s 5ms/step - loss: 2.2738 - accuracy: 0.1233\n",
            "Epoch 8/160\n",
            "118/118 [==============================] - 1s 5ms/step - loss: 2.2690 - accuracy: 0.1303\n",
            "Epoch 9/160\n",
            "118/118 [==============================] - 1s 5ms/step - loss: 2.2641 - accuracy: 0.1458\n",
            "Epoch 10/160\n",
            "118/118 [==============================] - 1s 5ms/step - loss: 2.2589 - accuracy: 0.1664\n",
            "Epoch 11/160\n",
            "118/118 [==============================] - 1s 5ms/step - loss: 2.2535 - accuracy: 0.1888\n",
            "Epoch 12/160\n",
            "118/118 [==============================] - 1s 5ms/step - loss: 2.2478 - accuracy: 0.2137\n",
            "Epoch 13/160\n",
            "118/118 [==============================] - 1s 5ms/step - loss: 2.2416 - accuracy: 0.2368\n",
            "Epoch 14/160\n",
            "118/118 [==============================] - 1s 5ms/step - loss: 2.2351 - accuracy: 0.2565\n",
            "Epoch 15/160\n",
            "118/118 [==============================] - 1s 5ms/step - loss: 2.2282 - accuracy: 0.2781\n",
            "Epoch 16/160\n",
            "118/118 [==============================] - 1s 5ms/step - loss: 2.2207 - accuracy: 0.3099\n",
            "Epoch 17/160\n",
            "118/118 [==============================] - 1s 5ms/step - loss: 2.2127 - accuracy: 0.3208\n",
            "Epoch 18/160\n",
            "118/118 [==============================] - 1s 5ms/step - loss: 2.2040 - accuracy: 0.3349\n",
            "Epoch 19/160\n",
            "118/118 [==============================] - 1s 7ms/step - loss: 2.1947 - accuracy: 0.3575\n",
            "Epoch 20/160\n",
            "118/118 [==============================] - 1s 7ms/step - loss: 2.1847 - accuracy: 0.3731\n",
            "Epoch 21/160\n",
            "118/118 [==============================] - 1s 7ms/step - loss: 2.1740 - accuracy: 0.3812\n",
            "Epoch 22/160\n",
            "118/118 [==============================] - 1s 7ms/step - loss: 2.1624 - accuracy: 0.3951\n",
            "Epoch 23/160\n",
            "118/118 [==============================] - 1s 7ms/step - loss: 2.1500 - accuracy: 0.4058\n",
            "Epoch 24/160\n",
            "118/118 [==============================] - 1s 5ms/step - loss: 2.1368 - accuracy: 0.4110\n",
            "Epoch 25/160\n",
            "118/118 [==============================] - 1s 5ms/step - loss: 2.1227 - accuracy: 0.4172\n",
            "Epoch 26/160\n",
            "118/118 [==============================] - 1s 5ms/step - loss: 2.1076 - accuracy: 0.4194\n",
            "Epoch 27/160\n",
            "118/118 [==============================] - 1s 5ms/step - loss: 2.0918 - accuracy: 0.4282\n",
            "Epoch 28/160\n",
            "118/118 [==============================] - 1s 5ms/step - loss: 2.0750 - accuracy: 0.4286\n",
            "Epoch 29/160\n",
            "118/118 [==============================] - 1s 5ms/step - loss: 2.0574 - accuracy: 0.4309\n",
            "Epoch 30/160\n",
            "118/118 [==============================] - 1s 5ms/step - loss: 2.0391 - accuracy: 0.4326\n",
            "Epoch 31/160\n",
            "118/118 [==============================] - 1s 5ms/step - loss: 2.0200 - accuracy: 0.4358\n",
            "Epoch 32/160\n",
            "118/118 [==============================] - 1s 5ms/step - loss: 2.0003 - accuracy: 0.4404\n",
            "Epoch 33/160\n",
            "118/118 [==============================] - 1s 5ms/step - loss: 1.9800 - accuracy: 0.4432\n",
            "Epoch 34/160\n",
            "118/118 [==============================] - 1s 5ms/step - loss: 1.9592 - accuracy: 0.4463\n",
            "Epoch 35/160\n",
            "118/118 [==============================] - 1s 5ms/step - loss: 1.9380 - accuracy: 0.4483\n",
            "Epoch 36/160\n",
            "118/118 [==============================] - 1s 5ms/step - loss: 1.9165 - accuracy: 0.4518\n",
            "Epoch 37/160\n",
            "118/118 [==============================] - 1s 5ms/step - loss: 1.8949 - accuracy: 0.4557\n",
            "Epoch 38/160\n",
            "118/118 [==============================] - 1s 5ms/step - loss: 1.8730 - accuracy: 0.4600\n",
            "Epoch 39/160\n",
            "118/118 [==============================] - 1s 5ms/step - loss: 1.8511 - accuracy: 0.4634\n",
            "Epoch 40/160\n",
            "118/118 [==============================] - 1s 5ms/step - loss: 1.8292 - accuracy: 0.4685\n",
            "Epoch 41/160\n",
            "118/118 [==============================] - 1s 5ms/step - loss: 1.8073 - accuracy: 0.4733\n",
            "Epoch 42/160\n",
            "118/118 [==============================] - 1s 7ms/step - loss: 1.7855 - accuracy: 0.4784\n",
            "Epoch 43/160\n",
            "118/118 [==============================] - 1s 7ms/step - loss: 1.7638 - accuracy: 0.4830\n",
            "Epoch 44/160\n",
            "118/118 [==============================] - 1s 7ms/step - loss: 1.7424 - accuracy: 0.4867\n",
            "Epoch 45/160\n",
            "118/118 [==============================] - 1s 7ms/step - loss: 1.7211 - accuracy: 0.4928\n",
            "Epoch 46/160\n",
            "118/118 [==============================] - 1s 8ms/step - loss: 1.7001 - accuracy: 0.4965\n",
            "Epoch 47/160\n",
            "118/118 [==============================] - 1s 5ms/step - loss: 1.6793 - accuracy: 0.5016\n",
            "Epoch 48/160\n",
            "118/118 [==============================] - 1s 5ms/step - loss: 1.6588 - accuracy: 0.5063\n",
            "Epoch 49/160\n",
            "118/118 [==============================] - 1s 5ms/step - loss: 1.6387 - accuracy: 0.5118\n",
            "Epoch 50/160\n",
            "118/118 [==============================] - 1s 5ms/step - loss: 1.6188 - accuracy: 0.5163\n",
            "Epoch 51/160\n",
            "118/118 [==============================] - 1s 5ms/step - loss: 1.5992 - accuracy: 0.5215\n",
            "Epoch 52/160\n",
            "118/118 [==============================] - 1s 5ms/step - loss: 1.5800 - accuracy: 0.5267\n",
            "Epoch 53/160\n",
            "118/118 [==============================] - 1s 5ms/step - loss: 1.5611 - accuracy: 0.5310\n",
            "Epoch 54/160\n",
            "118/118 [==============================] - 1s 5ms/step - loss: 1.5425 - accuracy: 0.5361\n",
            "Epoch 55/160\n",
            "118/118 [==============================] - 1s 5ms/step - loss: 1.5243 - accuracy: 0.5405\n",
            "Epoch 56/160\n",
            "118/118 [==============================] - 1s 8ms/step - loss: 1.5064 - accuracy: 0.5462\n",
            "Epoch 57/160\n",
            "118/118 [==============================] - 1s 5ms/step - loss: 1.4889 - accuracy: 0.5510\n",
            "Epoch 58/160\n",
            "118/118 [==============================] - 1s 5ms/step - loss: 1.4718 - accuracy: 0.5566\n",
            "Epoch 59/160\n",
            "118/118 [==============================] - 1s 5ms/step - loss: 1.4549 - accuracy: 0.5609\n",
            "Epoch 60/160\n",
            "118/118 [==============================] - 1s 5ms/step - loss: 1.4385 - accuracy: 0.5664\n",
            "Epoch 61/160\n",
            "118/118 [==============================] - 1s 5ms/step - loss: 1.4224 - accuracy: 0.5714\n",
            "Epoch 62/160\n",
            "118/118 [==============================] - 1s 5ms/step - loss: 1.4066 - accuracy: 0.5767\n",
            "Epoch 63/160\n",
            "118/118 [==============================] - 1s 5ms/step - loss: 1.3912 - accuracy: 0.5819\n",
            "Epoch 64/160\n",
            "118/118 [==============================] - 1s 7ms/step - loss: 1.3761 - accuracy: 0.5877\n",
            "Epoch 65/160\n",
            "118/118 [==============================] - 1s 7ms/step - loss: 1.3613 - accuracy: 0.5927\n",
            "Epoch 66/160\n",
            "118/118 [==============================] - 1s 7ms/step - loss: 1.3469 - accuracy: 0.5972\n",
            "Epoch 67/160\n",
            "118/118 [==============================] - 1s 7ms/step - loss: 1.3327 - accuracy: 0.6024\n",
            "Epoch 68/160\n",
            "118/118 [==============================] - 1s 8ms/step - loss: 1.3189 - accuracy: 0.6072\n",
            "Epoch 69/160\n",
            "118/118 [==============================] - 1s 5ms/step - loss: 1.3054 - accuracy: 0.6118\n",
            "Epoch 70/160\n",
            "118/118 [==============================] - 1s 5ms/step - loss: 1.2922 - accuracy: 0.6158\n",
            "Epoch 71/160\n",
            "118/118 [==============================] - 1s 5ms/step - loss: 1.2793 - accuracy: 0.6207\n",
            "Epoch 72/160\n",
            "118/118 [==============================] - 1s 5ms/step - loss: 1.2666 - accuracy: 0.6239\n",
            "Epoch 73/160\n",
            "118/118 [==============================] - 1s 5ms/step - loss: 1.2543 - accuracy: 0.6275\n",
            "Epoch 74/160\n",
            "118/118 [==============================] - 1s 5ms/step - loss: 1.2422 - accuracy: 0.6306\n",
            "Epoch 75/160\n",
            "118/118 [==============================] - 1s 5ms/step - loss: 1.2304 - accuracy: 0.6346\n",
            "Epoch 76/160\n",
            "118/118 [==============================] - 1s 5ms/step - loss: 1.2188 - accuracy: 0.6386\n",
            "Epoch 77/160\n",
            "118/118 [==============================] - 1s 5ms/step - loss: 1.2075 - accuracy: 0.6423\n",
            "Epoch 78/160\n",
            "118/118 [==============================] - 1s 5ms/step - loss: 1.1964 - accuracy: 0.6456\n",
            "Epoch 79/160\n",
            "118/118 [==============================] - 1s 5ms/step - loss: 1.1856 - accuracy: 0.6489\n",
            "Epoch 80/160\n",
            "118/118 [==============================] - 1s 5ms/step - loss: 1.1750 - accuracy: 0.6517\n",
            "Epoch 81/160\n",
            "118/118 [==============================] - 1s 5ms/step - loss: 1.1646 - accuracy: 0.6543\n",
            "Epoch 82/160\n",
            "118/118 [==============================] - 1s 5ms/step - loss: 1.1545 - accuracy: 0.6578\n",
            "Epoch 83/160\n",
            "118/118 [==============================] - 1s 5ms/step - loss: 1.1445 - accuracy: 0.6599\n",
            "Epoch 84/160\n",
            "118/118 [==============================] - 1s 5ms/step - loss: 1.1348 - accuracy: 0.6632\n",
            "Epoch 85/160\n",
            "118/118 [==============================] - 1s 5ms/step - loss: 1.1253 - accuracy: 0.6658\n",
            "Epoch 86/160\n",
            "118/118 [==============================] - 1s 5ms/step - loss: 1.1159 - accuracy: 0.6685\n",
            "Epoch 87/160\n",
            "118/118 [==============================] - 1s 7ms/step - loss: 1.1068 - accuracy: 0.6714\n",
            "Epoch 88/160\n",
            "118/118 [==============================] - 1s 7ms/step - loss: 1.0979 - accuracy: 0.6744\n",
            "Epoch 89/160\n",
            "118/118 [==============================] - 1s 7ms/step - loss: 1.0891 - accuracy: 0.6768\n",
            "Epoch 90/160\n",
            "118/118 [==============================] - 1s 7ms/step - loss: 1.0805 - accuracy: 0.6793\n",
            "Epoch 91/160\n",
            "118/118 [==============================] - 1s 7ms/step - loss: 1.0721 - accuracy: 0.6818\n",
            "Epoch 92/160\n",
            "118/118 [==============================] - 1s 6ms/step - loss: 1.0638 - accuracy: 0.6849\n",
            "Epoch 93/160\n",
            "118/118 [==============================] - 1s 5ms/step - loss: 1.0557 - accuracy: 0.6867\n",
            "Epoch 94/160\n",
            "118/118 [==============================] - 1s 5ms/step - loss: 1.0478 - accuracy: 0.6897\n",
            "Epoch 95/160\n",
            "118/118 [==============================] - 1s 5ms/step - loss: 1.0400 - accuracy: 0.6913\n",
            "Epoch 96/160\n",
            "118/118 [==============================] - 1s 5ms/step - loss: 1.0324 - accuracy: 0.6939\n",
            "Epoch 97/160\n",
            "118/118 [==============================] - 1s 5ms/step - loss: 1.0249 - accuracy: 0.6954\n",
            "Epoch 98/160\n",
            "118/118 [==============================] - 1s 5ms/step - loss: 1.0176 - accuracy: 0.6987\n",
            "Epoch 99/160\n",
            "118/118 [==============================] - 1s 5ms/step - loss: 1.0104 - accuracy: 0.7008\n",
            "Epoch 100/160\n",
            "118/118 [==============================] - 1s 5ms/step - loss: 1.0033 - accuracy: 0.7026\n",
            "Epoch 101/160\n",
            "118/118 [==============================] - 1s 5ms/step - loss: 0.9964 - accuracy: 0.7050\n",
            "Epoch 102/160\n",
            "118/118 [==============================] - 1s 5ms/step - loss: 0.9896 - accuracy: 0.7069\n",
            "Epoch 103/160\n",
            "118/118 [==============================] - 1s 5ms/step - loss: 0.9829 - accuracy: 0.7092\n",
            "Epoch 104/160\n",
            "118/118 [==============================] - 1s 5ms/step - loss: 0.9763 - accuracy: 0.7119\n",
            "Epoch 105/160\n",
            "118/118 [==============================] - 1s 5ms/step - loss: 0.9699 - accuracy: 0.7140\n",
            "Epoch 106/160\n",
            "118/118 [==============================] - 1s 5ms/step - loss: 0.9635 - accuracy: 0.7158\n",
            "Epoch 107/160\n",
            "118/118 [==============================] - 1s 5ms/step - loss: 0.9573 - accuracy: 0.7187\n",
            "Epoch 108/160\n",
            "118/118 [==============================] - 1s 5ms/step - loss: 0.9511 - accuracy: 0.7200\n",
            "Epoch 109/160\n",
            "118/118 [==============================] - 1s 5ms/step - loss: 0.9451 - accuracy: 0.7236\n",
            "Epoch 110/160\n",
            "118/118 [==============================] - 1s 7ms/step - loss: 0.9392 - accuracy: 0.7253\n",
            "Epoch 111/160\n",
            "118/118 [==============================] - 1s 7ms/step - loss: 0.9333 - accuracy: 0.7282\n",
            "Epoch 112/160\n",
            "118/118 [==============================] - 1s 7ms/step - loss: 0.9276 - accuracy: 0.7302\n",
            "Epoch 113/160\n",
            "118/118 [==============================] - 1s 7ms/step - loss: 0.9219 - accuracy: 0.7323\n",
            "Epoch 114/160\n",
            "118/118 [==============================] - 1s 8ms/step - loss: 0.9164 - accuracy: 0.7339\n",
            "Epoch 115/160\n",
            "118/118 [==============================] - 1s 6ms/step - loss: 0.9109 - accuracy: 0.7361\n",
            "Epoch 116/160\n",
            "118/118 [==============================] - 1s 7ms/step - loss: 0.9055 - accuracy: 0.7382\n",
            "Epoch 117/160\n",
            "118/118 [==============================] - 1s 7ms/step - loss: 0.9002 - accuracy: 0.7405\n",
            "Epoch 118/160\n",
            "118/118 [==============================] - 1s 8ms/step - loss: 0.8950 - accuracy: 0.7422\n",
            "Epoch 119/160\n",
            "118/118 [==============================] - 1s 8ms/step - loss: 0.8898 - accuracy: 0.7434\n",
            "Epoch 120/160\n",
            "118/118 [==============================] - 1s 8ms/step - loss: 0.8848 - accuracy: 0.7453\n",
            "Epoch 121/160\n",
            "118/118 [==============================] - 1s 5ms/step - loss: 0.8798 - accuracy: 0.7470\n",
            "Epoch 122/160\n",
            "118/118 [==============================] - 1s 5ms/step - loss: 0.8748 - accuracy: 0.7484\n",
            "Epoch 123/160\n",
            "118/118 [==============================] - 1s 5ms/step - loss: 0.8699 - accuracy: 0.7505\n",
            "Epoch 124/160\n",
            "118/118 [==============================] - 1s 5ms/step - loss: 0.8651 - accuracy: 0.7530\n",
            "Epoch 125/160\n",
            "118/118 [==============================] - 1s 5ms/step - loss: 0.8604 - accuracy: 0.7543\n",
            "Epoch 126/160\n",
            "118/118 [==============================] - 1s 5ms/step - loss: 0.8557 - accuracy: 0.7556\n",
            "Epoch 127/160\n",
            "118/118 [==============================] - 1s 5ms/step - loss: 0.8511 - accuracy: 0.7574\n",
            "Epoch 128/160\n",
            "118/118 [==============================] - 1s 5ms/step - loss: 0.8466 - accuracy: 0.7587\n",
            "Epoch 129/160\n",
            "118/118 [==============================] - 1s 7ms/step - loss: 0.8421 - accuracy: 0.7607\n",
            "Epoch 130/160\n",
            "118/118 [==============================] - 1s 7ms/step - loss: 0.8377 - accuracy: 0.7628\n",
            "Epoch 131/160\n",
            "118/118 [==============================] - 1s 7ms/step - loss: 0.8333 - accuracy: 0.7645\n",
            "Epoch 132/160\n",
            "118/118 [==============================] - 1s 8ms/step - loss: 0.8290 - accuracy: 0.7660\n",
            "Epoch 133/160\n",
            "118/118 [==============================] - 1s 8ms/step - loss: 0.8247 - accuracy: 0.7680\n",
            "Epoch 134/160\n",
            "118/118 [==============================] - 1s 6ms/step - loss: 0.8205 - accuracy: 0.7690\n",
            "Epoch 135/160\n",
            "118/118 [==============================] - 1s 5ms/step - loss: 0.8163 - accuracy: 0.7709\n",
            "Epoch 136/160\n",
            "118/118 [==============================] - 1s 5ms/step - loss: 0.8122 - accuracy: 0.7723\n",
            "Epoch 137/160\n",
            "118/118 [==============================] - 1s 6ms/step - loss: 0.8081 - accuracy: 0.7738\n",
            "Epoch 138/160\n",
            "118/118 [==============================] - 1s 5ms/step - loss: 0.8041 - accuracy: 0.7752\n",
            "Epoch 139/160\n",
            "118/118 [==============================] - 1s 5ms/step - loss: 0.8001 - accuracy: 0.7768\n",
            "Epoch 140/160\n",
            "118/118 [==============================] - 1s 5ms/step - loss: 0.7962 - accuracy: 0.7778\n",
            "Epoch 141/160\n",
            "118/118 [==============================] - 1s 5ms/step - loss: 0.7923 - accuracy: 0.7800\n",
            "Epoch 142/160\n",
            "118/118 [==============================] - 1s 5ms/step - loss: 0.7885 - accuracy: 0.7812\n",
            "Epoch 143/160\n",
            "118/118 [==============================] - 1s 5ms/step - loss: 0.7847 - accuracy: 0.7823\n",
            "Epoch 144/160\n",
            "118/118 [==============================] - 1s 5ms/step - loss: 0.7809 - accuracy: 0.7840\n",
            "Epoch 145/160\n",
            "118/118 [==============================] - 1s 5ms/step - loss: 0.7772 - accuracy: 0.7856\n",
            "Epoch 146/160\n",
            "118/118 [==============================] - 1s 5ms/step - loss: 0.7735 - accuracy: 0.7867\n",
            "Epoch 147/160\n",
            "118/118 [==============================] - 1s 5ms/step - loss: 0.7699 - accuracy: 0.7876\n",
            "Epoch 148/160\n",
            "118/118 [==============================] - 1s 5ms/step - loss: 0.7663 - accuracy: 0.7892\n",
            "Epoch 149/160\n",
            "118/118 [==============================] - 1s 5ms/step - loss: 0.7627 - accuracy: 0.7905\n",
            "Epoch 150/160\n",
            "118/118 [==============================] - 1s 5ms/step - loss: 0.7592 - accuracy: 0.7924\n",
            "Epoch 151/160\n",
            "118/118 [==============================] - 1s 7ms/step - loss: 0.7557 - accuracy: 0.7935\n",
            "Epoch 152/160\n",
            "118/118 [==============================] - 1s 7ms/step - loss: 0.7522 - accuracy: 0.7950\n",
            "Epoch 153/160\n",
            "118/118 [==============================] - 1s 8ms/step - loss: 0.7488 - accuracy: 0.7958\n",
            "Epoch 154/160\n",
            "118/118 [==============================] - 1s 7ms/step - loss: 0.7454 - accuracy: 0.7975\n",
            "Epoch 155/160\n",
            "118/118 [==============================] - 1s 8ms/step - loss: 0.7420 - accuracy: 0.7984\n",
            "Epoch 156/160\n",
            "118/118 [==============================] - 1s 7ms/step - loss: 0.7387 - accuracy: 0.8001\n",
            "Epoch 157/160\n",
            "118/118 [==============================] - 1s 5ms/step - loss: 0.7354 - accuracy: 0.8011\n",
            "Epoch 158/160\n",
            "118/118 [==============================] - 1s 5ms/step - loss: 0.7321 - accuracy: 0.8022\n",
            "Epoch 159/160\n",
            "118/118 [==============================] - 1s 5ms/step - loss: 0.7289 - accuracy: 0.8035\n",
            "Epoch 160/160\n",
            "118/118 [==============================] - 1s 5ms/step - loss: 0.7257 - accuracy: 0.8045\n"
          ]
        },
        {
          "output_type": "execute_result",
          "data": {
            "text/plain": [
              "<keras.src.callbacks.History at 0x7cbdb0983100>"
            ]
          },
          "metadata": {},
          "execution_count": 7
        }
      ]
    },
    {
      "cell_type": "code",
      "source": [
        "test_loss, test_acc = network.evaluate(test_images, test_labels)\n",
        "print('Test Accuracy: {:.5f} '.format(test_acc))\n",
        "test_acc"
      ],
      "metadata": {
        "colab": {
          "base_uri": "https://localhost:8080/"
        },
        "id": "lxgwEbxmozey",
        "outputId": "c374d7ef-c142-4a56-fde5-45654b8b8611"
      },
      "execution_count": 8,
      "outputs": [
        {
          "output_type": "stream",
          "name": "stdout",
          "text": [
            "313/313 [==============================] - 1s 2ms/step - loss: 0.7110 - accuracy: 0.8130\n",
            "Test Accuracy: 0.81300 \n"
          ]
        },
        {
          "output_type": "execute_result",
          "data": {
            "text/plain": [
              "0.8130000233650208"
            ]
          },
          "metadata": {},
          "execution_count": 8
        }
      ]
    },
    {
      "cell_type": "code",
      "source": [
        "from keras.utils import plot_model\n",
        "plot_model(network, to_file='model.png')\n",
        "import matplotlib.pyplot as plt\n",
        "history =network.fit(train_images, train_labels, validation_split=0.33,epochs=5, batch_size=512)\n",
        "history_dict = history.history\n",
        "print(history_dict.keys())\n",
        "plt.plot(history.history['accuracy'])\n",
        "plt.plot(history.history['val_accuracy'])\n",
        "plt.title('Model accuracy')\n",
        "plt.ylabel('Accuracy')\n",
        "plt.xlabel('Epoch')\n",
        "plt.legend(['Train', 'Test'], loc='upper left')\n",
        "plt.show()\n",
        "\n",
        "\n",
        "# Plot training & validation loss values\n",
        "plt.plot(history.history['loss'])\n",
        "plt.plot(history.history['val_loss'])\n",
        "plt.title('Model loss')\n",
        "plt.ylabel('Loss')\n",
        "plt.xlabel('Epoch')\n",
        "plt.legend(['Train', 'Test'], loc='upper left')\n",
        "plt.show()\n"
      ],
      "metadata": {
        "colab": {
          "base_uri": "https://localhost:8080/",
          "height": 1000
        },
        "id": "3vpftWmpo195",
        "outputId": "446823e1-4834-45e0-bbb1-2fb51c18fc2f"
      },
      "execution_count": 9,
      "outputs": [
        {
          "output_type": "stream",
          "name": "stdout",
          "text": [
            "Epoch 1/5\n",
            "79/79 [==============================] - 1s 12ms/step - loss: 0.7303 - accuracy: 0.8024 - val_loss: 0.7073 - val_accuracy: 0.8125\n",
            "Epoch 2/5\n",
            "79/79 [==============================] - 1s 13ms/step - loss: 0.7281 - accuracy: 0.8031 - val_loss: 0.7054 - val_accuracy: 0.8134\n",
            "Epoch 3/5\n",
            "79/79 [==============================] - 1s 12ms/step - loss: 0.7260 - accuracy: 0.8039 - val_loss: 0.7033 - val_accuracy: 0.8145\n",
            "Epoch 4/5\n",
            "79/79 [==============================] - 1s 13ms/step - loss: 0.7239 - accuracy: 0.8049 - val_loss: 0.7013 - val_accuracy: 0.8150\n",
            "Epoch 5/5\n",
            "79/79 [==============================] - 2s 20ms/step - loss: 0.7218 - accuracy: 0.8058 - val_loss: 0.6993 - val_accuracy: 0.8157\n",
            "dict_keys(['loss', 'accuracy', 'val_loss', 'val_accuracy'])\n"
          ]
        },
        {
          "output_type": "display_data",
          "data": {
            "text/plain": [
              "<Figure size 640x480 with 1 Axes>"
            ],
            "image/png": "[encoded data removed]"
          },
          "metadata": {}
        },
        {
          "output_type": "display_data",
          "data": {
            "text/plain": [
              "<Figure size 640x480 with 1 Axes>"
            ],
            "image/png": "[encoded data removed]"
          },
          "metadata": {}
        }
      ]
    }
  ]
}